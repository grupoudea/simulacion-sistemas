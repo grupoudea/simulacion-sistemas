{
 "cells": [
  {
   "cell_type": "code",
   "execution_count": 9,
   "metadata": {},
   "outputs": [
    {
     "name": "stdout",
     "output_type": "stream",
     "text": [
      "Collecting scipy\n",
      "  Downloading scipy-1.10.1-cp311-cp311-win_amd64.whl (42.2 MB)\n",
      "     ---------------------------------------- 42.2/42.2 MB 2.4 MB/s eta 0:00:00\n",
      "Requirement already satisfied: numpy<1.27.0,>=1.19.5 in c:\\users\\juang\\appdata\\local\\programs\\python\\python311\\lib\\site-packages (from scipy) (1.24.2)\n",
      "Installing collected packages: scipy\n",
      "Successfully installed scipy-1.10.1\n",
      "Note: you may need to restart the kernel to use updated packages.\n"
     ]
    },
    {
     "name": "stderr",
     "output_type": "stream",
     "text": [
      "\n",
      "[notice] A new release of pip available: 22.3.1 -> 23.0.1\n",
      "[notice] To update, run: python.exe -m pip install --upgrade pip\n"
     ]
    }
   ],
   "source": [
    "%pip install scipy"
   ]
  },
  {
   "attachments": {},
   "cell_type": "markdown",
   "metadata": {},
   "source": [
    "## Ejercicio 1\n",
    "Genere un conjunto de 1000 muestras artificiales con una distribución que corresponda a la suma de dos Gaussiana con diferente media, ambas de una sola dimension. Grafique el histograma de los datos generados."
   ]
  },
  {
   "cell_type": "code",
   "execution_count": 6,
   "metadata": {},
   "outputs": [],
   "source": [
    "import numpy as np\n",
    "import matplotlib.pyplot as plt"
   ]
  },
  {
   "cell_type": "code",
   "execution_count": 7,
   "metadata": {},
   "outputs": [
    {
     "data": {
      "image/png": "[encoded data removed]",
      "text/plain": [
       "<Figure size 640x480 with 1 Axes>"
      ]
     },
     "metadata": {},
     "output_type": "display_data"
    }
   ],
   "source": [
    "normal_1=np.random.normal(3, 2, 1000)\n",
    "normal_2=np.random.normal(18, 2, 1000)\n",
    "\n",
    "res=normal_1 + normal_2\n",
    "\n",
    "\n",
    "plt.hist(res,10,(0,30))\n",
    "plt.xlabel('Valor de la muestra')\n",
    "plt.ylabel('Frecuencia')\n",
    "plt.title('Histograma de 1000 muestras artificiales con suma de dos Gaussianas')\n",
    "plt.show()"
   ]
  },
  {
   "attachments": {},
   "cell_type": "markdown",
   "metadata": {},
   "source": [
    "## Ejercicio 2\n",
    "\n",
    "A continuación se define el método dist_euclidiana. En la parte del código dónde está el comentario \"completar\" debe escribir el código que permita calcular la salida de dicha función. Es decir, lleve a código la siguiente función:\n",
    "\n",
    "$$ d(x, x^*) = \\sqrt{(x_1-x_{1}^{*})^2+(x_2-x_{2}^{*})^2+...+(x_{n-1}-x_{n-1}^{*})^2+(x_n-x_{n}^{*})^2} $$\n",
    "\n",
    "Nota: Consulte la librería scipy y si lo ve conveniente use los métodos que le puedan ayudar para resolver el laboratorio."
   ]
  },
  {
   "cell_type": "code",
   "execution_count": 10,
   "metadata": {},
   "outputs": [],
   "source": [
    "from scipy.spatial import distance\n",
    "\n",
    "#Método para calcular la distancia entre dos vectores\n",
    "def dist_euclidiana(x1, x2):\n",
    "    \n",
    "    #Complete el código para calcular la distancia entre x1 y x2\n",
    "    dist = distance.euclidean(x1,x2) \n",
    "    \n",
    "    return dist"
   ]
  },
  {
   "attachments": {},
   "cell_type": "markdown",
   "metadata": {},
   "source": [
    "## Ejercicio 3\n",
    "\n",
    "Analice los siguientes métodos a la luz de la teoría vista para los modelos de K vecinos más cercanos (KNN) y ventana de Parzen. Una vez comprenda su funcionamiento proceda a completar el código del método KNN.\n"
   ]
  },
  {
   "cell_type": "code",
   "execution_count": null,
   "metadata": {},
   "outputs": [],
   "source": [
    "from scipy.stats import mode\n",
    "import operator\n",
    "\n",
    "#Error cuadrático medio para los problemas de regresión\n",
    "def ECM(Y_est,Y):\n",
    "    N = np.size(Y)\n",
    "    Y = 100*Y    #Analice la variable de salida de la base de datos y observe porque se multiplica por 100\n",
    "    Y_est = 100*np.asarray(Y_est)\n",
    "    ecm = sum((Y_est - Y)**2)/(2*N)\n",
    "    \n",
    "    return ecm\n",
    "\n",
    "def KNN(X_train, Y_train, X_val, Y_val, knn, tipo):\n",
    "    \n",
    "    k = knn    #Parámetro k que equivale al número de vecinos a tener en cuenta para resolver el problema de\n",
    "               #predicción de la variable de salida\n",
    "    \n",
    "    Y_est = []\n",
    "    \n",
    "    for x1 in X_val:\n",
    "        distances = dict()    #Estudien la estrucutra de datos diccionario de Python para que comprendan el codigo\n",
    "        for x2, y2 in zip(X_train, Y_train):\n",
    "            distances.update({dist_euclidiana(x1,x2): y2})\n",
    "    \n",
    "        #k vecinos más cercanos cercanos\n",
    "        vecinos = sorted(distances.items(), key=operator.itemgetter(0))\n",
    "        #print vecinos\n",
    "        \n",
    "        #Complete aquí el código para tomar solo la variables de salida de los k vecinos más cercanos\n",
    "        y_vecinos = []\n",
    "        y_vecinos = [v[1] for v in vecinos][:k] \n",
    "        \n",
    "        #Se calcula la variable de salida\n",
    "        #Regression\n",
    "        if tipo == 'regression':\n",
    "            #Complete el código aquí para calcular la variable de salida en el problema de regresión\n",
    "            #y_est = \n",
    "            y_est = np.mean(y_vecinos)\n",
    "            Y_est.append(y_est)\n",
    "        #Classification\n",
    "        elif tipo == 'classification':\n",
    "            #Complete el código aquí para calcular la variable de salida en el problema de clasificación\n",
    "            #y_est = \n",
    "            y_est = mode(y_vecinos)[0][0]\n",
    "            Y_est.append(y_est)\n",
    "            \n",
    "    if tipo == 'regression':\n",
    "        return ECM(Y_est, Y_val)\n",
    "    elif tipo == 'classification':\n",
    "        return error(Y_est,Y_val)\n"
   ]
  }
 ],
 "metadata": {
  "kernelspec": {
   "display_name": "Python 3",
   "language": "python",
   "name": "python3"
  },
  "language_info": {
   "codemirror_mode": {
    "name": "ipython",
    "version": 3
   },
   "file_extension": ".py",
   "mimetype": "text/x-python",
   "name": "python",
   "nbconvert_exporter": "python",
   "pygments_lexer": "ipython3",
   "version": "3.11.2"
  },
  "orig_nbformat": 4
 },
 "nbformat": 4,
 "nbformat_minor": 2
}
